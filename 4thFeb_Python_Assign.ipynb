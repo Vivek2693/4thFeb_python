{
 "cells": [
  {
   "cell_type": "markdown",
   "id": "04d92a31-2f0f-42f6-874e-8e8f62f75c5e",
   "metadata": {},
   "source": [
    "Q1. Create a python program to sort the given list of tuples based on integer value using a\n",
    "lambda function.\n",
    "[('Sachin Tendulkar', 34357), ('Ricky Ponting', 27483), ('Jack Kallis', 25534), ('Virat Kohli', 24936)]"
   ]
  },
  {
   "cell_type": "code",
   "execution_count": 3,
   "id": "f117e481-496f-4291-8523-f16a96407e05",
   "metadata": {},
   "outputs": [
    {
     "name": "stdout",
     "output_type": "stream",
     "text": [
      "[('Virat Kohli', 24936), ('Jack Kallis', 25534), ('Ricky Ponting', 27483), ('Sachin Tendulkar', 34357)]\n"
     ]
    }
   ],
   "source": [
    "data = [('Sachin Tendulkar', 34357), ('Ricky Ponting', 27483), ('Jack Kallis', 25534), ('Virat Kohli', 24936)]\n",
    "\n",
    "sorted_data = sorted(data, key=lambda x: x[1])\n",
    "print(sorted_data)\n",
    "\n"
   ]
  },
  {
   "cell_type": "markdown",
   "id": "837f0bf2-dd39-4163-ba82-ec29842fa1c2",
   "metadata": {},
   "source": [
    "The sorted() function is used with a lambda function as the key argument. The lambda function specifies that the sorting should be done based on the second\n",
    "element (x[1]) of each tuple."
   ]
  },
  {
   "cell_type": "markdown",
   "id": "fe6e30f2-e3e0-433f-bb16-9e6a84653f74",
   "metadata": {},
   "source": [
    "Q2. Find the squares of all numbers in a list using lambda and map functions:\n",
    "\n"
   ]
  },
  {
   "cell_type": "code",
   "execution_count": 5,
   "id": "3ca13898-75a4-4a1e-a79f-18f60b4ea65a",
   "metadata": {},
   "outputs": [
    {
     "name": "stdout",
     "output_type": "stream",
     "text": [
      "[1, 4, 9, 16, 25, 36, 49, 64, 81, 100]\n"
     ]
    }
   ],
   "source": [
    "numbers = [1, 2, 3, 4, 5, 6, 7, 8, 9, 10]\n",
    "\n",
    "squared_numbers = list(map(lambda x: x**2, numbers))\n",
    "print(squared_numbers)\n"
   ]
  },
  {
   "cell_type": "markdown",
   "id": "5ff3b00d-14d1-475b-b8eb-40e198cc77e5",
   "metadata": {},
   "source": [
    "Q3. Convert a list of integers into a tuple of strings using map and lambda functions:\n",
    "\n"
   ]
  },
  {
   "cell_type": "code",
   "execution_count": 6,
   "id": "a7125346-fb5f-4b96-a4e5-d81d40bc138e",
   "metadata": {},
   "outputs": [
    {
     "name": "stdout",
     "output_type": "stream",
     "text": [
      "('1', '2', '3', '4', '5', '6', '7', '8', '9', '10')\n"
     ]
    }
   ],
   "source": [
    "numbers = [1, 2, 3, 4, 5, 6, 7, 8, 9, 10]\n",
    "\n",
    "tuple_of_strings = tuple(map(lambda x: str(x), numbers))\n",
    "print(tuple_of_strings)\n"
   ]
  },
  {
   "cell_type": "markdown",
   "id": "772d676c-61c2-4329-babf-db7651da450b",
   "metadata": {},
   "source": [
    "Q4. Compute the product of a list containing numbers from 1 to 25 using the reduce function:\n",
    "\n"
   ]
  },
  {
   "cell_type": "code",
   "execution_count": 9,
   "id": "992badc5-4ce4-44f2-839b-748920d90284",
   "metadata": {},
   "outputs": [
    {
     "name": "stdout",
     "output_type": "stream",
     "text": [
      "15511210043330985984000000\n"
     ]
    }
   ],
   "source": [
    "from functools import reduce\n",
    "\n",
    "numbers = list(range(1, 26))\n",
    "\n",
    "product = reduce(lambda x, y: x * y, numbers)\n",
    "print(product)\n"
   ]
  },
  {
   "cell_type": "markdown",
   "id": "f9da384f-e628-47a1-a2f0-f77bf811e851",
   "metadata": {},
   "source": [
    "The reduce() function is used with a lambda function to multiply each number in the list together, resulting in the product."
   ]
  },
  {
   "cell_type": "markdown",
   "id": "60375b8a-f5fa-4790-a0e1-253c2304e847",
   "metadata": {},
   "source": [
    " Q5. Filter the numbers in a list that are divisible by 2 and 3 using the filter function:\n",
    "\n"
   ]
  },
  {
   "cell_type": "code",
   "execution_count": 10,
   "id": "1706f535-ef5b-4f61-90fc-5db3e32112ec",
   "metadata": {},
   "outputs": [
    {
     "name": "stdout",
     "output_type": "stream",
     "text": [
      "[6, 60, 90, 120]\n"
     ]
    }
   ],
   "source": [
    "numbers = [2, 3, 6, 9, 27, 60, 90, 120, 55, 46]\n",
    "\n",
    "divisible_by_2_and_3 = list(filter(lambda x: x % 2 == 0 and x % 3 == 0, numbers))\n",
    "print(divisible_by_2_and_3)\n"
   ]
  },
  {
   "cell_type": "code",
   "execution_count": null,
   "id": "aa69d921-40df-4425-8bea-5a7bcac7a504",
   "metadata": {},
   "outputs": [],
   "source": []
  },
  {
   "cell_type": "code",
   "execution_count": null,
   "id": "54324091-3142-43fb-9801-09ce035caa6d",
   "metadata": {},
   "outputs": [],
   "source": []
  },
  {
   "cell_type": "code",
   "execution_count": null,
   "id": "ca6cd032-e7bb-4296-9fce-dd28531bc160",
   "metadata": {},
   "outputs": [],
   "source": []
  },
  {
   "cell_type": "code",
   "execution_count": null,
   "id": "e62196a2-acb0-45f7-9763-5e45ea19df69",
   "metadata": {},
   "outputs": [],
   "source": []
  },
  {
   "cell_type": "code",
   "execution_count": null,
   "id": "856ad9e4-a7b7-42cf-9cfa-80b3fa93ce32",
   "metadata": {},
   "outputs": [],
   "source": []
  },
  {
   "cell_type": "code",
   "execution_count": null,
   "id": "60b5f287-3ef2-4583-83cf-b9872aefa57e",
   "metadata": {},
   "outputs": [],
   "source": []
  },
  {
   "cell_type": "code",
   "execution_count": null,
   "id": "faedc069-6d92-4ae4-94d1-d99321ef9821",
   "metadata": {},
   "outputs": [],
   "source": []
  }
 ],
 "metadata": {
  "kernelspec": {
   "display_name": "Python 3 (ipykernel)",
   "language": "python",
   "name": "python3"
  },
  "language_info": {
   "codemirror_mode": {
    "name": "ipython",
    "version": 3
   },
   "file_extension": ".py",
   "mimetype": "text/x-python",
   "name": "python",
   "nbconvert_exporter": "python",
   "pygments_lexer": "ipython3",
   "version": "3.10.8"
  }
 },
 "nbformat": 4,
 "nbformat_minor": 5
}
